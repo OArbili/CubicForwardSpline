{
 "cells": [
  {
   "cell_type": "code",
   "execution_count": 1,
   "metadata": {},
   "outputs": [],
   "source": [
    "import sys\n",
    "sys.path.append(\"../model\")\n",
    "from model import CubicForwardSpline"
   ]
  },
  {
   "cell_type": "code",
   "execution_count": 2,
   "metadata": {},
   "outputs": [],
   "source": [
    "test_cfs = CubicForwardSpline()"
   ]
  },
  {
   "cell_type": "code",
   "execution_count": 3,
   "metadata": {},
   "outputs": [],
   "source": [
    "test_cfs.load_data(\"../data/CubiRate_ILS_20231231.csv\",\"../data/CubiCash_ILS_20231231.csv\",\"../data/Tenet_ILS_20231231.csv\")"
   ]
  },
  {
   "cell_type": "code",
   "execution_count": 4,
   "metadata": {},
   "outputs": [
    {
     "data": {
      "text/html": [
       "<div>\n",
       "<style scoped>\n",
       "    .dataframe tbody tr th:only-of-type {\n",
       "        vertical-align: middle;\n",
       "    }\n",
       "\n",
       "    .dataframe tbody tr th {\n",
       "        vertical-align: top;\n",
       "    }\n",
       "\n",
       "    .dataframe thead th {\n",
       "        text-align: right;\n",
       "    }\n",
       "</style>\n",
       "<table border=\"1\" class=\"dataframe\">\n",
       "  <thead>\n",
       "    <tr style=\"text-align: right;\">\n",
       "      <th></th>\n",
       "      <th>tdate</th>\n",
       "      <th>tenor</th>\n",
       "      <th>wgt</th>\n",
       "      <th>fwd</th>\n",
       "      <th>b0</th>\n",
       "      <th>b1</th>\n",
       "      <th>b2</th>\n",
       "      <th>b3</th>\n",
       "      <th>t1</th>\n",
       "      <th>t2</th>\n",
       "    </tr>\n",
       "  </thead>\n",
       "  <tbody>\n",
       "    <tr>\n",
       "      <th>0</th>\n",
       "      <td>31/12/2023</td>\n",
       "      <td>0.00</td>\n",
       "      <td>0.01</td>\n",
       "      <td>4.864296</td>\n",
       "      <td>0.872401</td>\n",
       "      <td>0.110315</td>\n",
       "      <td>0.262119</td>\n",
       "      <td>0.467093</td>\n",
       "      <td>0.00</td>\n",
       "      <td>0.50</td>\n",
       "    </tr>\n",
       "    <tr>\n",
       "      <th>1</th>\n",
       "      <td>31/12/2023</td>\n",
       "      <td>0.50</td>\n",
       "      <td>0.01</td>\n",
       "      <td>4.864296</td>\n",
       "      <td>1.000000</td>\n",
       "      <td>0.043261</td>\n",
       "      <td>0.155678</td>\n",
       "      <td>1.000000</td>\n",
       "      <td>0.50</td>\n",
       "      <td>0.75</td>\n",
       "    </tr>\n",
       "    <tr>\n",
       "      <th>2</th>\n",
       "      <td>31/12/2023</td>\n",
       "      <td>0.75</td>\n",
       "      <td>0.01</td>\n",
       "      <td>4.864296</td>\n",
       "      <td>0.060042</td>\n",
       "      <td>0.025389</td>\n",
       "      <td>0.011947</td>\n",
       "      <td>0.269640</td>\n",
       "      <td>0.75</td>\n",
       "      <td>1.00</td>\n",
       "    </tr>\n",
       "    <tr>\n",
       "      <th>3</th>\n",
       "      <td>31/12/2023</td>\n",
       "      <td>1.00</td>\n",
       "      <td>0.01</td>\n",
       "      <td>4.864296</td>\n",
       "      <td>0.248790</td>\n",
       "      <td>1.000000</td>\n",
       "      <td>0.003304</td>\n",
       "      <td>0.064351</td>\n",
       "      <td>1.00</td>\n",
       "      <td>2.00</td>\n",
       "    </tr>\n",
       "    <tr>\n",
       "      <th>4</th>\n",
       "      <td>31/12/2023</td>\n",
       "      <td>2.00</td>\n",
       "      <td>1.00</td>\n",
       "      <td>4.864296</td>\n",
       "      <td>0.065172</td>\n",
       "      <td>0.017862</td>\n",
       "      <td>0.454169</td>\n",
       "      <td>0.773521</td>\n",
       "      <td>2.00</td>\n",
       "      <td>3.00</td>\n",
       "    </tr>\n",
       "    <tr>\n",
       "      <th>5</th>\n",
       "      <td>31/12/2023</td>\n",
       "      <td>3.00</td>\n",
       "      <td>1.00</td>\n",
       "      <td>4.864296</td>\n",
       "      <td>0.479913</td>\n",
       "      <td>0.056948</td>\n",
       "      <td>0.204420</td>\n",
       "      <td>0.636265</td>\n",
       "      <td>3.00</td>\n",
       "      <td>4.00</td>\n",
       "    </tr>\n",
       "    <tr>\n",
       "      <th>6</th>\n",
       "      <td>31/12/2023</td>\n",
       "      <td>4.00</td>\n",
       "      <td>1.00</td>\n",
       "      <td>4.864296</td>\n",
       "      <td>0.322235</td>\n",
       "      <td>0.039949</td>\n",
       "      <td>0.115101</td>\n",
       "      <td>0.037497</td>\n",
       "      <td>4.00</td>\n",
       "      <td>5.00</td>\n",
       "    </tr>\n",
       "    <tr>\n",
       "      <th>7</th>\n",
       "      <td>31/12/2023</td>\n",
       "      <td>5.00</td>\n",
       "      <td>1.00</td>\n",
       "      <td>4.864296</td>\n",
       "      <td>0.389914</td>\n",
       "      <td>0.382340</td>\n",
       "      <td>0.082008</td>\n",
       "      <td>0.655182</td>\n",
       "      <td>5.00</td>\n",
       "      <td>6.00</td>\n",
       "    </tr>\n",
       "    <tr>\n",
       "      <th>8</th>\n",
       "      <td>31/12/2023</td>\n",
       "      <td>6.00</td>\n",
       "      <td>1.00</td>\n",
       "      <td>4.864296</td>\n",
       "      <td>0.629475</td>\n",
       "      <td>0.107769</td>\n",
       "      <td>0.124139</td>\n",
       "      <td>0.220527</td>\n",
       "      <td>6.00</td>\n",
       "      <td>7.00</td>\n",
       "    </tr>\n",
       "    <tr>\n",
       "      <th>9</th>\n",
       "      <td>31/12/2023</td>\n",
       "      <td>7.00</td>\n",
       "      <td>1.00</td>\n",
       "      <td>4.864296</td>\n",
       "      <td>0.045924</td>\n",
       "      <td>0.029734</td>\n",
       "      <td>0.634275</td>\n",
       "      <td>0.017158</td>\n",
       "      <td>7.00</td>\n",
       "      <td>9.00</td>\n",
       "    </tr>\n",
       "    <tr>\n",
       "      <th>10</th>\n",
       "      <td>31/12/2023</td>\n",
       "      <td>9.00</td>\n",
       "      <td>1.00</td>\n",
       "      <td>4.864296</td>\n",
       "      <td>0.831856</td>\n",
       "      <td>0.066292</td>\n",
       "      <td>0.240952</td>\n",
       "      <td>0.383914</td>\n",
       "      <td>9.00</td>\n",
       "      <td>15.00</td>\n",
       "    </tr>\n",
       "    <tr>\n",
       "      <th>11</th>\n",
       "      <td>31/12/2023</td>\n",
       "      <td>15.00</td>\n",
       "      <td>1.00</td>\n",
       "      <td>4.864296</td>\n",
       "      <td>0.083529</td>\n",
       "      <td>0.053785</td>\n",
       "      <td>0.263741</td>\n",
       "      <td>0.157297</td>\n",
       "      <td>15.00</td>\n",
       "      <td>20.00</td>\n",
       "    </tr>\n",
       "    <tr>\n",
       "      <th>12</th>\n",
       "      <td>31/12/2023</td>\n",
       "      <td>20.00</td>\n",
       "      <td>1000.00</td>\n",
       "      <td>4.864296</td>\n",
       "      <td>0.238661</td>\n",
       "      <td>0.176996</td>\n",
       "      <td>0.458852</td>\n",
       "      <td>0.106579</td>\n",
       "      <td>20.00</td>\n",
       "      <td>25.00</td>\n",
       "    </tr>\n",
       "    <tr>\n",
       "      <th>13</th>\n",
       "      <td>31/12/2023</td>\n",
       "      <td>25.00</td>\n",
       "      <td>1000.00</td>\n",
       "      <td>4.864296</td>\n",
       "      <td>0.697983</td>\n",
       "      <td>0.080514</td>\n",
       "      <td>0.371525</td>\n",
       "      <td>0.628902</td>\n",
       "      <td>25.00</td>\n",
       "      <td>30.00</td>\n",
       "    </tr>\n",
       "    <tr>\n",
       "      <th>14</th>\n",
       "      <td>31/12/2023</td>\n",
       "      <td>30.00</td>\n",
       "      <td>1000.00</td>\n",
       "      <td>4.864296</td>\n",
       "      <td>0.039129</td>\n",
       "      <td>0.333368</td>\n",
       "      <td>1.000000</td>\n",
       "      <td>0.042164</td>\n",
       "      <td>30.00</td>\n",
       "      <td>99.00</td>\n",
       "    </tr>\n",
       "  </tbody>\n",
       "</table>\n",
       "</div>"
      ],
      "text/plain": [
       "         tdate  tenor      wgt       fwd        b0        b1        b2  \\\n",
       "0   31/12/2023   0.00     0.01  4.864296  0.872401  0.110315  0.262119   \n",
       "1   31/12/2023   0.50     0.01  4.864296  1.000000  0.043261  0.155678   \n",
       "2   31/12/2023   0.75     0.01  4.864296  0.060042  0.025389  0.011947   \n",
       "3   31/12/2023   1.00     0.01  4.864296  0.248790  1.000000  0.003304   \n",
       "4   31/12/2023   2.00     1.00  4.864296  0.065172  0.017862  0.454169   \n",
       "5   31/12/2023   3.00     1.00  4.864296  0.479913  0.056948  0.204420   \n",
       "6   31/12/2023   4.00     1.00  4.864296  0.322235  0.039949  0.115101   \n",
       "7   31/12/2023   5.00     1.00  4.864296  0.389914  0.382340  0.082008   \n",
       "8   31/12/2023   6.00     1.00  4.864296  0.629475  0.107769  0.124139   \n",
       "9   31/12/2023   7.00     1.00  4.864296  0.045924  0.029734  0.634275   \n",
       "10  31/12/2023   9.00     1.00  4.864296  0.831856  0.066292  0.240952   \n",
       "11  31/12/2023  15.00     1.00  4.864296  0.083529  0.053785  0.263741   \n",
       "12  31/12/2023  20.00  1000.00  4.864296  0.238661  0.176996  0.458852   \n",
       "13  31/12/2023  25.00  1000.00  4.864296  0.697983  0.080514  0.371525   \n",
       "14  31/12/2023  30.00  1000.00  4.864296  0.039129  0.333368  1.000000   \n",
       "\n",
       "          b3     t1     t2  \n",
       "0   0.467093   0.00   0.50  \n",
       "1   1.000000   0.50   0.75  \n",
       "2   0.269640   0.75   1.00  \n",
       "3   0.064351   1.00   2.00  \n",
       "4   0.773521   2.00   3.00  \n",
       "5   0.636265   3.00   4.00  \n",
       "6   0.037497   4.00   5.00  \n",
       "7   0.655182   5.00   6.00  \n",
       "8   0.220527   6.00   7.00  \n",
       "9   0.017158   7.00   9.00  \n",
       "10  0.383914   9.00  15.00  \n",
       "11  0.157297  15.00  20.00  \n",
       "12  0.106579  20.00  25.00  \n",
       "13  0.628902  25.00  30.00  \n",
       "14  0.042164  30.00  99.00  "
      ]
     },
     "execution_count": 4,
     "metadata": {},
     "output_type": "execute_result"
    }
   ],
   "source": [
    "test_cfs.params"
   ]
  },
  {
   "cell_type": "code",
   "execution_count": 20,
   "metadata": {},
   "outputs": [
    {
     "data": {
      "text/plain": [
       "109.91469277179058"
      ]
     },
     "execution_count": 20,
     "metadata": {},
     "output_type": "execute_result"
    }
   ],
   "source": [
    "test_cfs.run_one_time()"
   ]
  },
  {
   "cell_type": "code",
   "execution_count": 6,
   "metadata": {},
   "outputs": [],
   "source": [
    "# test_cfs.cf_new"
   ]
  },
  {
   "cell_type": "code",
   "execution_count": 7,
   "metadata": {},
   "outputs": [],
   "source": [
    "# test_cfs.cf_new.groupby('ncode')['pv'].sum()"
   ]
  },
  {
   "cell_type": "code",
   "execution_count": 10,
   "metadata": {},
   "outputs": [],
   "source": [
    "# test_cfs.calc_prices"
   ]
  },
  {
   "cell_type": "code",
   "execution_count": 14,
   "metadata": {},
   "outputs": [],
   "source": [
    "# test_cfs.prices"
   ]
  },
  {
   "cell_type": "code",
   "execution_count": 21,
   "metadata": {},
   "outputs": [],
   "source": [
    "res = test_cfs.run_linear()"
   ]
  },
  {
   "cell_type": "code",
   "execution_count": 22,
   "metadata": {},
   "outputs": [
    {
     "data": {
      "text/plain": [
       "  message: ABNORMAL_TERMINATION_IN_LNSRCH\n",
       "  success: False\n",
       "   status: 2\n",
       "      fun: 109.91469277179606\n",
       "        x: [ 2.217e-02 -1.022e-01 ...  0.000e+00  0.000e+00]\n",
       "      nit: 0\n",
       "      jac: [-2.639e+02 -6.436e+01 ...  0.000e+00  0.000e+00]\n",
       "     nfev: 1281\n",
       "     njev: 21\n",
       " hess_inv: <60x60 LbfgsInvHessProduct with dtype=float64>"
      ]
     },
     "execution_count": 22,
     "metadata": {},
     "output_type": "execute_result"
    }
   ],
   "source": [
    "res"
   ]
  },
  {
   "cell_type": "code",
   "execution_count": 23,
   "metadata": {},
   "outputs": [],
   "source": [
    "#test_cfs.params"
   ]
  },
  {
   "cell_type": "code",
   "execution_count": 24,
   "metadata": {},
   "outputs": [
    {
     "data": {
      "text/plain": [
       "  message: ABNORMAL_TERMINATION_IN_LNSRCH\n",
       "  success: False\n",
       "   status: 2\n",
       "      fun: 109.91469277179606\n",
       "        x: [ 2.217e-02 -1.022e-01 ...  0.000e+00  0.000e+00]\n",
       "      nit: 0\n",
       "      jac: [-2.639e+02 -6.436e+01 ...  0.000e+00  0.000e+00]\n",
       "     nfev: 1281\n",
       "     njev: 21\n",
       " hess_inv: <60x60 LbfgsInvHessProduct with dtype=float64>"
      ]
     },
     "execution_count": 24,
     "metadata": {},
     "output_type": "execute_result"
    }
   ],
   "source": [
    "res"
   ]
  },
  {
   "cell_type": "code",
   "execution_count": 25,
   "metadata": {},
   "outputs": [
    {
     "data": {
      "text/plain": [
       "  message: ABNORMAL_TERMINATION_IN_LNSRCH\n",
       "  success: False\n",
       "   status: 2\n",
       "      fun: 109.91469279540952\n",
       "        x: [ 2.217e-02 -1.022e-01 ...  0.000e+00  0.000e+00]\n",
       "      nit: 0\n",
       "      jac: [-2.639e+02 -6.436e+01 ...  0.000e+00  0.000e+00]\n",
       "     nfev: 1281\n",
       "     njev: 21\n",
       " hess_inv: <60x60 LbfgsInvHessProduct with dtype=float64>"
      ]
     },
     "execution_count": 25,
     "metadata": {},
     "output_type": "execute_result"
    }
   ],
   "source": [
    "test_cfs.run_cubic_spline()"
   ]
  },
  {
   "cell_type": "code",
   "execution_count": null,
   "metadata": {},
   "outputs": [],
   "source": []
  },
  {
   "cell_type": "code",
   "execution_count": 12,
   "metadata": {},
   "outputs": [],
   "source": [
    "import pandas as pd\n",
    "data = pd.read_csv(\"../data/Tenet_ILS_20231231.csv\")"
   ]
  },
  {
   "cell_type": "code",
   "execution_count": 15,
   "metadata": {},
   "outputs": [],
   "source": [
    "data['t1'] = data['tenor']"
   ]
  },
  {
   "cell_type": "code",
   "execution_count": 16,
   "metadata": {},
   "outputs": [
    {
     "data": {
      "text/plain": [
       "0      0.00\n",
       "1      0.50\n",
       "2      0.75\n",
       "3      1.00\n",
       "4      2.00\n",
       "5      3.00\n",
       "6      4.00\n",
       "7      5.00\n",
       "8      6.00\n",
       "9      7.00\n",
       "10     9.00\n",
       "11    15.00\n",
       "12    20.00\n",
       "13    25.00\n",
       "14    30.00\n",
       "Name: t1, dtype: float64"
      ]
     },
     "execution_count": 16,
     "metadata": {},
     "output_type": "execute_result"
    }
   ],
   "source": [
    "data['t1']"
   ]
  },
  {
   "cell_type": "code",
   "execution_count": 19,
   "metadata": {},
   "outputs": [
    {
     "data": {
      "text/plain": [
       "0      0.50\n",
       "1      0.75\n",
       "2      1.00\n",
       "3      2.00\n",
       "4      3.00\n",
       "5      4.00\n",
       "6      5.00\n",
       "7      6.00\n",
       "8      7.00\n",
       "9      9.00\n",
       "10    15.00\n",
       "11    20.00\n",
       "12    25.00\n",
       "13    30.00\n",
       "14    99.00\n",
       "Name: t1, dtype: float64"
      ]
     },
     "execution_count": 19,
     "metadata": {},
     "output_type": "execute_result"
    }
   ],
   "source": [
    "data['t2'] = data['t1'].shift(-1).fillna(99)"
   ]
  },
  {
   "cell_type": "code",
   "execution_count": null,
   "metadata": {},
   "outputs": [],
   "source": []
  }
 ],
 "metadata": {
  "kernelspec": {
   "display_name": "bgu",
   "language": "python",
   "name": "python3"
  },
  "language_info": {
   "codemirror_mode": {
    "name": "ipython",
    "version": 3
   },
   "file_extension": ".py",
   "mimetype": "text/x-python",
   "name": "python",
   "nbconvert_exporter": "python",
   "pygments_lexer": "ipython3",
   "version": "3.10.5"
  }
 },
 "nbformat": 4,
 "nbformat_minor": 2
}
